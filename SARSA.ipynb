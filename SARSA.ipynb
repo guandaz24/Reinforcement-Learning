{
 "cells": [
  {
   "cell_type": "markdown",
   "id": "02944396",
   "metadata": {},
   "source": [
    "# Assignment"
   ]
  },
  {
   "cell_type": "code",
   "execution_count": 1,
   "id": "c9652bc6",
   "metadata": {},
   "outputs": [],
   "source": [
    "# Import \n",
    "\n",
    "import numpy as np\n",
    "import matplotlib.pyplot as plt\n",
    "from degree_freedom_queen import *\n",
    "from degree_freedom_king1 import *\n",
    "from degree_freedom_king2 import *\n",
    "from generate_game import *\n",
    "from Chess_env import *\n",
    "\n",
    "\n",
    "size_board = 4"
   ]
  },
  {
   "cell_type": "markdown",
   "id": "0bceca7c",
   "metadata": {},
   "source": [
    "## The Environment\n",
    "\n",
    "You can find the environment in the file Chess_env, which contains the class Chess_env. To define an object, you need to provide the board size considered as input. In our example, size_board=4. \n",
    "Chess_env is composed by the following methods:\n",
    "\n",
    "1. Initialise_game. The method initialises an episode by placing the three pieces considered (Agent's king and queen, enemy's king) in the chess board. The outputs of the method are described below in order.\n",
    "\n",
    "     S $\\;$ A matrix representing the board locations filled with 4 numbers: 0, no piece in that position; 1, location of the \n",
    "     agent's king; 2 location of the queen; 3 location of the enemy king.\n",
    "     \n",
    "     X $\\;$ The features, that is the input to the neural network. See the assignment for more information regarding the            definition of the features adopted. To personalise this, go into the Features method of the class Chess_env() and change        accordingly.\n",
    "     \n",
    "     allowed_a $\\;$ The allowed actions that the agent can make. The agent is moving a king, with a total number of 8                possible actions, and a queen, with a total number of $(board_{size}-1)\\times 8$ actions. The total number of possible actions correspond      to the sum of the two, but not all actions are allowed in a given position (movements to locations outside the borders or      against chess rules). Thus, the variable allowed_a is a vector that is one (zero) for an action that the agent can (can't)      make. Be careful, apply the policy considered on the actions that are allowed only.\n",
    "     \n",
    "\n",
    "2. OneStep. The method performs a one step update of the system. Given as input the action selected by the agent, it updates the chess board by performing that action and the response of the enemy king (which is a random allowed action in the settings considered). The first three outputs are the same as for the Initialise_game method, but the variables are computed for the position reached after the update of the system. The fourth and fifth outputs are:\n",
    "\n",
    "     R $\\;$ The reward. To change this, look at the OneStep method of the class where the rewards are set.\n",
    "     \n",
    "     Done $\\;$ A variable that is 1 if the episode has ended (checkmate or draw).\n",
    "     \n",
    "     \n",
    "3. Features. Given the chessboard position, the method computes the features.\n",
    "\n",
    "This information and a quick analysis of the class should be all you need to get going. The other functions that the class exploits are uncommented and constitute an example on how not to write a python code. You can take a look at them if you want, but it is not necessary.\n",
    "\n",
    "\n",
    "\n",
    "\n"
   ]
  },
  {
   "cell_type": "code",
   "execution_count": 2,
   "id": "9593a299",
   "metadata": {},
   "outputs": [],
   "source": [
    "## INITIALISE THE ENVIRONMENT\n",
    "\n",
    "env=Chess_Env(size_board)"
   ]
  },
  {
   "cell_type": "code",
   "execution_count": 3,
   "id": "bbc05bfd",
   "metadata": {},
   "outputs": [
    {
     "name": "stdout",
     "output_type": "stream",
     "text": [
      "[[0 0 0 0]\n",
      " [3 0 0 0]\n",
      " [0 0 1 0]\n",
      " [0 2 0 0]]\n",
      "check?  0\n",
      "dofk2  1\n",
      "\n",
      "[[3 0 0 0]\n",
      " [0 0 0 0]\n",
      " [0 2 1 0]\n",
      " [0 0 0 0]]\n",
      "0  0\n",
      "check?  0\n",
      "dofk2  0\n",
      "\n",
      "[[3 0 0 0]\n",
      " [0 0 1 0]\n",
      " [0 2 0 0]\n",
      " [0 0 0 0]]\n",
      "0.0  1\n",
      "check?  0\n",
      "dofk2  0\n"
     ]
    }
   ],
   "source": [
    "## PRINT 5 STEPS OF AN EPISODE CONSIDERING A RANDOM AGENT\n",
    "\n",
    "S,X,allowed_a=env.Initialise_game()                       # INTIALISE GAME\n",
    "\n",
    "print(S)                                                  # PRINT CHESS BOARD (SEE THE DESCRIPTION ABOVE)\n",
    "\n",
    "print('check? ',env.check)                                # PRINT VARIABLE THAT TELLS IF ENEMY KING IS IN CHECK (1) OR NOT (0)\n",
    "print('dofk2 ',np.sum(env.dfk2_constrain).astype(int))    # PRINT THE NUMBER OF LOCATIONS THAT THE ENEMY KING CAN MOVE TO\n",
    "\n",
    "\n",
    "for i in range(5):\n",
    "    \n",
    "    a,_=np.where(allowed_a==1)                  # FIND WHAT THE ALLOWED ACTIONS ARE\n",
    "    a_agent=np.random.permutation(a)[0]         # MAKE A RANDOM ACTION\n",
    "\n",
    "    S,X,allowed_a,R,Done=env.OneStep(a_agent)   # UPDATE THE ENVIRONMENT\n",
    "    \n",
    "    \n",
    "    ## PRINT CHESS BOARD AND VARIABLES\n",
    "    print('')\n",
    "    print(S)\n",
    "    print(R,'', Done)\n",
    "    print('check? ',env.check)\n",
    "    print('dofk2 ',np.sum(env.dfk2_constrain).astype(int))\n",
    "    \n",
    "    \n",
    "    # TERMINATE THE EPISODE IF Done=True (DRAW OR CHECKMATE)\n",
    "    if Done:\n",
    "        break\n",
    "        \n"
   ]
  },
  {
   "cell_type": "code",
   "execution_count": 4,
   "id": "fc16cf7b",
   "metadata": {},
   "outputs": [
    {
     "name": "stdout",
     "output_type": "stream",
     "text": [
      "Random_Agent, Average reward: 0.212 Number of steps:  7.017\n"
     ]
    }
   ],
   "source": [
    "# PERFORM N_episodes=1000 EPISODES MAKING RANDOM ACTIONS AND COMPUTE THE AVERAGE REWARD AND NUMBER OF MOVES \n",
    "\n",
    "S,X,allowed_a=env.Initialise_game()\n",
    "N_episodes=1000\n",
    "\n",
    "# VARIABLES WHERE TO SAVE THE FINAL REWARD IN AN EPISODE AND THE NUMBER OF MOVES \n",
    "R_save_random = np.zeros([N_episodes, 1])\n",
    "N_moves_save_random = np.zeros([N_episodes, 1])\n",
    "\n",
    "for n in range(N_episodes):\n",
    "    \n",
    "    S,X,allowed_a=env.Initialise_game()     # INITIALISE GAME\n",
    "    Done=0                                  # SET Done=0 AT THE BEGINNING\n",
    "    i=1                                     # COUNTER FOR THE NUMBER OF ACTIONS (MOVES) IN AN EPISODE\n",
    "    \n",
    "    # UNTIL THE EPISODE IS NOT OVER...(Done=0)\n",
    "    while Done==0:\n",
    "        \n",
    "        # SAME AS THE CELL BEFORE, BUT SAVING THE RESULTS WHEN THE EPISODE TERMINATES \n",
    "        \n",
    "        a,_=np.where(allowed_a==1)\n",
    "        a_agent=np.random.permutation(a)[0]\n",
    "\n",
    "        S,X,allowed_a,R,Done=env.OneStep(a_agent)\n",
    "        \n",
    "        \n",
    "        if Done:\n",
    "            \n",
    "            R_save_random[n]=np.copy(R)\n",
    "            N_moves_save_random[n]=np.copy(i)\n",
    "\n",
    "            break\n",
    "\n",
    "        i=i+1                               # UPDATE THE COUNTER\n",
    "\n",
    "\n",
    "\n",
    "# AS YOU SEE, THE PERFORMANCE OF A RANDOM AGENT ARE NOT GREAT, SINCE THE MAJORITY OF THE POSITIONS END WITH A DRAW \n",
    "# (THE ENEMY KING IS NOT IN CHECK AND CAN'T MOVE)\n",
    "\n",
    "print('Random_Agent, Average reward:',np.mean(R_save_random),'Number of steps: ',np.mean(N_moves_save_random))\n",
    "\n"
   ]
  },
  {
   "cell_type": "code",
   "execution_count": 5,
   "id": "ece20429",
   "metadata": {},
   "outputs": [
    {
     "name": "stdout",
     "output_type": "stream",
     "text": [
      "32 200 58\n"
     ]
    }
   ],
   "source": [
    "# INITIALISE THE PARAMETERS OF YOUR NEURAL NETWORK AND...\n",
    "# PLEASE CONSIDER TO USE A MASK OF ONE FOR THE ACTION MADE AND ZERO OTHERWISE IF YOU ARE NOT USING VANILLA GRADIENT DESCENT...\n",
    "# WE SUGGEST A NETWORK WITH ONE HIDDEN LAYER WITH SIZE 200. \n",
    "\n",
    "\n",
    "S,X,allowed_a=env.Initialise_game()\n",
    "N_a=np.shape(allowed_a)[0]   # TOTAL NUMBER OF POSSIBLE ACTIONS\n",
    "\n",
    "N_in=np.shape(X)[0]    ## INPUT SIZE\n",
    "N_h=200                ## NUMBER OF HIDDEN NODES\n",
    "\n",
    "\n",
    "## INITALISE YOUR NEURAL NETWORK...\n",
    "print(N_a,N_h,N_in)\n",
    "#weights\n",
    "import numpy.matlib\n",
    "W1=np.random.uniform(0,1,(N_h,N_in))\n",
    "W1=np.divide(W1,np.matlib.repmat(np.sum(W1,1)[:,None],1,N_in))\n",
    "W2=np.random.uniform(0,1,(N_a,N_h))\n",
    "W2=np.divide(W2,np.matlib.repmat(np.sum(W2,1)[:,None],1,N_h))\n",
    "#bias\n",
    "bias_W1=np.zeros((N_h,))\n",
    "bias_W2=np.zeros((N_a,))\n",
    "\n",
    "\n",
    "# HYPERPARAMETERS SUGGESTED (FOR A GRID SIZE OF 4)\n",
    "epsilon_0 = 0.2     # STARTING VALUE OF EPSILON FOR THE EPSILON-GREEDY POLICY\n",
    "beta = 0.00005      # THE PARAMETER SETS HOW QUICKLY THE VALUE OF EPSILON IS DECAYING (SEE epsilon_f BELOW)\n",
    "gamma = 0.85        # THE DISCOUNT FACTOR\n",
    "eta = 0.0035        # THE LEARNING RATE\n",
    "  \n",
    "# N_episodes = 100000 # THE NUMBER OF GAMES TO BE PLAYED \n",
    "N_episodes = 10000\n",
    "\n",
    "# SAVING VARIABLES\n",
    "R_save = np.zeros([N_episodes, 1])\n",
    "N_moves_save = np.zeros([N_episodes, 1])"
   ]
  },
  {
   "cell_type": "code",
   "execution_count": 6,
   "id": "b288ad57",
   "metadata": {},
   "outputs": [],
   "source": [
    "def Q_values(X, W1, W2, bias_W1, bias_W2):\n",
    "    # Neural activation: input layer -> hidden layer\n",
    "    activation1 = np.dot(W1, X) + bias_W1\n",
    "    # Apply the RELU function\n",
    "    out1 = np.maximum(activation1, 0)\n",
    "    # Neural activation: hidden layer -> output layer\n",
    "    activation2 = np.dot(W2, out1) + bias_W2\n",
    "    # Apply the RELU function\n",
    "    Q = np.maximum(activation2, 0)\n",
    "#     print(\"out1.shape\",out1.shape)\n",
    "    return Q, out1\n",
    "\n",
    "def EpsilonGreedy_Policy(epsilon,a):\n",
    "    if np.random.uniform(0,1) < epsilon:\n",
    "#         a_agent= a[np.random.randint(0,a.shape[0]-1)]\n",
    "        a_agent= a[np.random.randint(len(a))]\n",
    "    else:\n",
    "        a_agent= a[np.argmax(a)]\n",
    "\n",
    "    return a_agent"
   ]
  },
  {
   "cell_type": "code",
   "execution_count": 7,
   "id": "af14daf8",
   "metadata": {},
   "outputs": [],
   "source": [
    "# import grogress bar\n",
    "from time import sleep\n",
    "from tqdm import tqdm\n",
    "\n",
    "# for i in tqdm(range(10)):\n",
    "#     print(i)"
   ]
  },
  {
   "cell_type": "code",
   "execution_count": 11,
   "id": "e6ba1f84",
   "metadata": {},
   "outputs": [],
   "source": [
    "# TRAINING LOOP BONE STRUCTURE...\n",
    "# I WROTE FOR YOU A RANDOM AGENT (THE RANDOM AGENT WILL BE SLOWER TO GIVE CHECKMATE THAN AN OPTIMISED ONE, \n",
    "# SO DON'T GET CONCERNED BY THE TIME IT TAKES), CHANGE WITH YOURS ...\n",
    "\n",
    "for n in range(N_episodes):\n",
    "\n",
    "    epsilon_f = epsilon_0 / (1 + beta * n)   ## DECAYING EPSILON\n",
    "    Done=0                                   ## SET DONE TO ZERO (BEGINNING OF THE EPISODE)\n",
    "    i = 1                                    ## COUNTER FOR NUMBER OF ACTIONS\n",
    "    \n",
    "    S,X,allowed_a=env.Initialise_game()      ## INITIALISE GAME\n",
    "#     print(n)                                 ## REMOVE THIS OF COURSE, WE USED THIS TO CHECK THAT IT WAS RUNNING\n",
    "    \n",
    "    a,_=np.where(allowed_a==1)\n",
    "    # Find the Qvalues\n",
    "    Q, out1 = Q_values(X, W1, W2, bias_W1, bias_W2)\n",
    "    # Make an action\n",
    "    a_agent = EpsilonGreedy_Policy(epsilon_f, a)\n",
    "    \n",
    "    while Done==0:                           ## START THE EPISODE\n",
    "        \n",
    "        # Add to number of moves for the game\n",
    "        N_moves_save[n] = N_moves_save[n]+1\n",
    "        # Exponential moving average of the number of moves per game\n",
    "        alpha = 1/N_episodes\n",
    "        if n > 0:\n",
    "            N_moves_save[n] = ((1-alpha) * N_moves_save[n-1]) + (alpha*N_moves_save[n])\n",
    "\n",
    "        #return self.Board, X, allowed_a, R, Done    \n",
    "        S_next,X_next,allowed_a_next,R,Done=env.OneStep(a_agent)\n",
    "        \n",
    "        ## THE EPISODE HAS ENDED, UPDATE...BE CAREFUL, THIS IS THE LAST STEP OF THE EPISODE\n",
    "        if Done==1:\n",
    "            \n",
    "            # Backpropagation: output layer -> hidden layer\n",
    "            delta2 = (R - Q[a_agent]) * np.heaviside(Q[a_agent], 0)\n",
    "#             W2 += eta * np.outer(W2_delta, out1)\n",
    "#                     bias_W2 += eta * W2_delta\n",
    "            W2 +=eta * np.outer(delta2, out1)\n",
    "            bias_W2 +=eta * delta2\n",
    "\n",
    "            #Backpropagation: hidden -> input layer\n",
    "            delta1 = np.dot(W2[a_agent], delta2) * np.heaviside(out1, 0)\n",
    "#             delta1 = x1*(1-x1) * np.dot(W2.T, delta2)\n",
    "#             dW1 += np.outer(delta1,x0)\n",
    "#             dbias_W1 += delta1\n",
    "            W1 += eta * np.outer(delta1,X)\n",
    "            bias_W1 += eta * delta1\n",
    "\n",
    "            #set the reward for the game\n",
    "            R_save[n] = R\n",
    "            #exponential moving average of the reward R\n",
    "            alpha = 1/N_episodes\n",
    "            if n > 0:\n",
    "                R_save[n] = ((1-alpha) * R_save[n-1]) + (alpha*R_save[n])    \n",
    "            break   \n",
    "        \n",
    "        # IF THE EPISODE IS NOT OVER...\n",
    "        else:\n",
    "            \n",
    "            ## ONLY TO PUT SUMETHING\n",
    "            PIPPO=1\n",
    "            \n",
    "        #We have: S_next,X_next,allowed_a_next,R,Done\n",
    "        a_next,_=np.where(allowed_a_next==1)\n",
    "        Q_next, _ = Q_values(X_next, W1, W2, bias_W1, bias_W2)        \n",
    "        a_agent_next = EpsilonGreedy_Policy(epsilon_f, a_next)    \n",
    "        \n",
    "        # NEXT STATE AND CO. BECOME ACTUAL STATE...     \n",
    "        S=np.copy(S_next)\n",
    "        X=np.copy(X_next)\n",
    "        allowed_a=np.copy(allowed_a_next)\n",
    "        a_agent=np.copy(a_agent_next)  \n",
    "\n",
    "        # Backpropagation: output layer -> hidden layer\n",
    "        delta2 = (R - Q[a_agent]) * np.heaviside(Q[a_agent], 0)\n",
    "        W2 +=eta * np.outer(delta2, out1)\n",
    "        bias_W2 +=eta * delta2\n",
    "\n",
    "        #Backpropagation: hidden -> input layer\n",
    "        delta1 = np.dot(W2[a_agent], delta2) * np.heaviside(out1, 0)\n",
    "        W1 += eta * np.outer(delta1,X)\n",
    "        bias_W1 += eta * delta1\n",
    "        \n",
    "        i += 1  # UPDATE COUNTER FOR NUMBER OF ACTIONS"
   ]
  },
  {
   "cell_type": "code",
   "execution_count": 14,
   "id": "c92f8f5d",
   "metadata": {},
   "outputs": [
    {
     "data": {
      "image/png": "[encoded data removed]",
      "text/plain": [
       "<Figure size 432x288 with 1 Axes>"
      ]
     },
     "metadata": {
      "needs_background": "light"
     },
     "output_type": "display_data"
    }
   ],
   "source": [
    "# Exponential moving average of reward per game over time\n",
    "plt.plot(R_save)\n",
    "plt.xlabel('Episode Number')\n",
    "plt.ylabel('Reward')\n",
    "plt.show()"
   ]
  },
  {
   "cell_type": "code",
   "execution_count": 15,
   "id": "8dd76068",
   "metadata": {},
   "outputs": [
    {
     "data": {
      "image/png": "[encoded data removed]",
      "text/plain": [
       "<Figure size 432x288 with 1 Axes>"
      ]
     },
     "metadata": {
      "needs_background": "light"
     },
     "output_type": "display_data"
    }
   ],
   "source": [
    "# Exponential moving average of number of moves per game over time\n",
    "plt.plot(N_moves_save)\n",
    "plt.xlabel('Episode Number')\n",
    "plt.ylabel('Number of Moves')\n",
    "plt.show()"
   ]
  },
  {
   "cell_type": "code",
   "execution_count": null,
   "id": "14df73da",
   "metadata": {},
   "outputs": [],
   "source": []
  }
 ],
 "metadata": {
  "kernelspec": {
   "display_name": "Python 3",
   "language": "python",
   "name": "python3"
  },
  "language_info": {
   "codemirror_mode": {
    "name": "ipython",
    "version": 3
   },
   "file_extension": ".py",
   "mimetype": "text/x-python",
   "name": "python",
   "nbconvert_exporter": "python",
   "pygments_lexer": "ipython3",
   "version": "3.8.8"
  }
 },
 "nbformat": 4,
 "nbformat_minor": 5
}
