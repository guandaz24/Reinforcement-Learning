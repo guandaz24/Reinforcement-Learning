{
 "cells": [
  {
   "cell_type": "markdown",
   "metadata": {},
   "source": [
    "## Assignment"
   ]
  },
  {
   "cell_type": "code",
   "execution_count": 1,
   "metadata": {},
   "outputs": [],
   "source": [
    "# Import \n",
    "import numpy as np\n",
    "import numpy.matlib\n",
    "import matplotlib.pyplot as plt\n",
    "\n",
    "'''\n",
    "    :param p_k1: position of King 1\n",
    "    :param p_k2: position of King 2\n",
    "    :param p_q1: position of Queen\n",
    "    :param s: board\n",
    "'''\n",
    "from degree_freedom_queen import *\n",
    "# return: dfQ1: Degrees of Freedom of the Queen, a_q1: Allowed actions for the Queen, dfQ1_: Squares the Queen is threatening\n",
    "from degree_freedom_king1 import *\n",
    "# return: dfK1: Degrees of Freedom of King 1, a_k1: Allowed actions for King 1, dfK1_: Squares the King1 is threatening\n",
    "from degree_freedom_king2 import *\n",
    "# return: dfK2: Degrees of freedom for King 2, a_k2: allowed actions for King 2, check: 1 if it is checked, -1 if not\n",
    "\n",
    "from generate_game import *\n",
    "'''\n",
    "This function creates a new chess game with three pieces at random locations. \n",
    "The enemy King has no interaction with our King and Queen. Positions range from 0 to 4\n",
    "    :param size_board:\n",
    "    :return:\n",
    "'''\n",
    "\n",
    "from Chess_env import *\n",
    "\n",
    "\n",
    "size_board = 4\n",
    "#set seed\n",
    "np.random.seed(233)"
   ]
  },
  {
   "cell_type": "markdown",
   "metadata": {},
   "source": [
    "## The Environment\n",
    "\n",
    "You can find the environment in the file Chess_env, which contains the class Chess_env. To define an object, you need to provide the board size considered as input. In our example, size_board=4. \n",
    "Chess_env is composed by the following methods:\n",
    "\n",
    "1. Initialise_game. The method initialises an episode by placing the three pieces considered (Agent's king and queen, enemy's king) in the chess board. The outputs of the method are described below in order.\n",
    "\n",
    "     S $\\;$ A matrix representing the board locations filled with 4 numbers: 0, no piece in that position; 1, location of the \n",
    "     agent's king; 2 location of the queen; 3 location of the enemy king.\n",
    "     \n",
    "     X $\\;$ The features, that is the input to the neural network. See the assignment for more information regarding the            definition of the features adopted. To personalise this, go into the Features method of the class Chess_env() and change        accordingly.\n",
    "     \n",
    "     allowed_a $\\;$ The allowed actions that the agent can make. The agent is moving a king, with a total number of 8                possible actions, and a queen, with a total number of $(board_{size}-1)\\times 8$ actions. The total number of possible actions correspond      to the sum of the two, but not all actions are allowed in a given position (movements to locations outside the borders or      against chess rules). Thus, the variable allowed_a is a vector that is one (zero) for an action that the agent can (can't)      make. Be careful, apply the policy considered on the actions that are allowed only.\n",
    "     \n",
    "\n",
    "2. OneStep. The method performs a one step update of the system. Given as input the action selected by the agent, it updates the chess board by performing that action and the response of the enemy king (which is a random allowed action in the settings considered). The first three outputs are the same as for the Initialise_game method, but the variables are computed for the position reached after the update of the system. The fourth and fifth outputs are:\n",
    "\n",
    "     R $\\;$ The reward. To change this, look at the OneStep method of the class where the rewards are set.\n",
    "     \n",
    "     Done $\\;$ A variable that is 1 if the episode has ended (checkmate or draw).\n",
    "     \n",
    "     \n",
    "3. Features. Given the chessboard position, the method computes the features.\n",
    "\n",
    "This information and a quick analysis of the class should be all you need to get going. The other functions that the class exploits are uncommented and constitute an example on how not to write a python code. You can take a look at them if you want, but it is not necessary.\n",
    "\n",
    "\n",
    "\n",
    "\n"
   ]
  },
  {
   "cell_type": "code",
   "execution_count": 5,
   "metadata": {
    "execution": {
     "iopub.execute_input": "2022-03-30T13:16:45.471384Z",
     "iopub.status.busy": "2022-03-30T13:16:45.471130Z",
     "iopub.status.idle": "2022-03-30T13:16:45.476118Z",
     "shell.execute_reply": "2022-03-30T13:16:45.475196Z",
     "shell.execute_reply.started": "2022-03-30T13:16:45.471356Z"
    }
   },
   "outputs": [],
   "source": [
    "import numpy.matlib\n",
    "## INITIALISE THE ENVIRONMENT\n",
    "\n",
    "env=Chess_Env(size_board)"
   ]
  },
  {
   "cell_type": "code",
   "execution_count": 16,
   "metadata": {
    "execution": {
     "iopub.execute_input": "2022-03-30T13:16:47.206515Z",
     "iopub.status.busy": "2022-03-30T13:16:47.205947Z",
     "iopub.status.idle": "2022-03-30T13:16:47.233564Z",
     "shell.execute_reply": "2022-03-30T13:16:47.232462Z",
     "shell.execute_reply.started": "2022-03-30T13:16:47.206474Z"
    }
   },
   "outputs": [
    {
     "name": "stdout",
     "output_type": "stream",
     "text": [
      "[[0 3 0 0]\n",
      " [0 0 0 2]\n",
      " [0 0 0 1]\n",
      " [0 0 0 0]]\n",
      "check?  0\n",
      "dofk2  1\n",
      "\n",
      "[[3 0 0 0]\n",
      " [0 0 0 2]\n",
      " [0 0 1 0]\n",
      " [0 0 0 0]]\n",
      "0  0\n",
      "check?  0\n",
      "dofk2  1\n",
      "\n",
      "[[0 3 0 0]\n",
      " [0 0 0 2]\n",
      " [0 0 0 0]\n",
      " [0 0 1 0]]\n",
      "0  0\n",
      "check?  0\n",
      "dofk2  1\n",
      "\n",
      "[[3 0 0 0]\n",
      " [0 0 0 2]\n",
      " [0 0 1 0]\n",
      " [0 0 0 0]]\n",
      "0  0\n",
      "check?  0\n",
      "dofk2  1\n",
      "\n",
      "[[0 0 0 0]\n",
      " [3 0 0 0]\n",
      " [0 0 1 2]\n",
      " [0 0 0 0]]\n",
      "0  0\n",
      "check?  0\n",
      "dofk2  2\n",
      "\n",
      "[[0 0 0 0]\n",
      " [0 3 0 0]\n",
      " [0 0 0 2]\n",
      " [0 0 0 1]]\n",
      "0  0\n",
      "check?  0\n",
      "dofk2  3\n"
     ]
    }
   ],
   "source": [
    "## PRINT 5 STEPS OF AN EPISODE CONSIDERING A RANDOM AGENT\n",
    "\n",
    "S,X,allowed_a=env.Initialise_game()                       # INTIALISE GAME\n",
    "\n",
    "print(S)                                                  # PRINT CHESS BOARD (SEE THE DESCRIPTION ABOVE)\n",
    "\n",
    "print('check? ',env.check)                                # PRINT VARIABLE THAT TELLS IF ENEMY KING IS IN CHECK (1) OR NOT (0)\n",
    "print('dofk2 ',np.sum(env.dfk2_constrain).astype(int))    # PRINT THE NUMBER OF LOCATIONS THAT THE ENEMY KING CAN MOVE TO\n",
    "\n",
    "\n",
    "for i in range(5):\n",
    "    \n",
    "    a,_=np.where(allowed_a==1)                  # FIND WHAT THE ALLOWED ACTIONS ARE\n",
    "    a_agent=np.random.permutation(a)[0]         # MAKE A RANDOM ACTION\n",
    "\n",
    "    S,X,allowed_a,R,Done=env.OneStep(a_agent)   # UPDATE THE ENVIRONMENT\n",
    "    \n",
    "    \n",
    "    ## PRINT CHESS BOARD AND VARIABLES\n",
    "    print('')\n",
    "    print(S)\n",
    "    print(R,'', Done)\n",
    "    print('check? ',env.check)\n",
    "    print('dofk2 ',np.sum(env.dfk2_constrain).astype(int))\n",
    "    \n",
    "    \n",
    "    # TERMINATE THE EPISODE IF Done=True (DRAW OR CHECKMATE)\n",
    "    if Done:\n",
    "        break\n",
    "        "
   ]
  },
  {
   "cell_type": "code",
   "execution_count": 17,
   "metadata": {
    "execution": {
     "iopub.execute_input": "2022-03-30T13:16:47.776261Z",
     "iopub.status.busy": "2022-03-30T13:16:47.775996Z",
     "iopub.status.idle": "2022-03-30T13:16:56.335450Z",
     "shell.execute_reply": "2022-03-30T13:16:56.334700Z",
     "shell.execute_reply.started": "2022-03-30T13:16:47.776231Z"
    }
   },
   "outputs": [
    {
     "name": "stdout",
     "output_type": "stream",
     "text": [
      "Random_Agent, Average reward: 0.219 Number of steps:  7.217\n"
     ]
    }
   ],
   "source": [
    "# PERFORM N_episodes=1000 EPISODES MAKING RANDOM ACTIONS AND COMPUTE THE AVERAGE REWARD AND NUMBER OF MOVES \n",
    "\n",
    "S,X,allowed_a=env.Initialise_game()\n",
    "N_episodes=1000\n",
    "\n",
    "# VARIABLES WHERE TO SAVE THE FINAL REWARD IN AN EPISODE AND THE NUMBER OF MOVES \n",
    "R_save_random = np.zeros([N_episodes, 1])\n",
    "N_moves_save_random = np.zeros([N_episodes, 1])\n",
    "\n",
    "for n in range(N_episodes):\n",
    "    \n",
    "    S,X,allowed_a=env.Initialise_game()     # INITIALISE GAME\n",
    "    Done=0                                  # SET Done=0 AT THE BEGINNING\n",
    "    i=1                                     # COUNTER FOR THE NUMBER OF ACTIONS (MOVES) IN AN EPISODE\n",
    "    \n",
    "    # UNTIL THE EPISODE IS NOT OVER...(Done=0)\n",
    "    while Done==0:\n",
    "        \n",
    "        # SAME AS THE CELL BEFORE, BUT SAVING THE RESULTS WHEN THE EPISODE TERMINATES \n",
    "        \n",
    "        a,_=np.where(allowed_a==1)\n",
    "        a_agent=np.random.permutation(a)[0]\n",
    "\n",
    "        S,X,allowed_a,R,Done=env.OneStep(a_agent)\n",
    "        \n",
    "        \n",
    "        if Done:\n",
    "            \n",
    "            R_save_random[n]=np.copy(R)\n",
    "            N_moves_save_random[n]=np.copy(i)\n",
    "\n",
    "            break\n",
    "\n",
    "        i=i+1                               # UPDATE THE COUNTER\n",
    "        \n",
    "        \n",
    "# AS YOU SEE, THE PERFORMANCE OF A RANDOM AGENT ARE NOT GREAT, SINCE THE MAJORITY OF THE POSITIONS END WITH A DRAW \n",
    "# (THE ENEMY KING IS NOT IN CHECK AND CAN'T MOVE)\n",
    "\n",
    "print('Random_Agent, Average reward:',np.mean(R_save_random),'Number of steps: ',np.mean(N_moves_save_random))"
   ]
  },
  {
   "cell_type": "code",
   "execution_count": 18,
   "metadata": {
    "execution": {
     "iopub.execute_input": "2022-03-30T13:17:22.783924Z",
     "iopub.status.busy": "2022-03-30T13:17:22.783466Z",
     "iopub.status.idle": "2022-03-30T13:17:22.792829Z",
     "shell.execute_reply": "2022-03-30T13:17:22.791859Z",
     "shell.execute_reply.started": "2022-03-30T13:17:22.783887Z"
    }
   },
   "outputs": [],
   "source": [
    "# INITIALISE THE PARAMETERS OF YOUR NEURAL NETWORK AND...\n",
    "# PLEASE CONSIDER TO USE A MASK OF ONE FOR THE ACTION MADE AND ZERO OTHERWISE IF YOU ARE NOT USING VANILLA GRADIENT DESCENT...\n",
    "# WE SUGGEST A NETWORK WITH ONE HIDDEN LAYER WITH SIZE 200. \n",
    "\n",
    "\n",
    "S,X,allowed_a=env.Initialise_game()\n",
    "N_a=np.shape(allowed_a)[0]   # TOTAL NUMBER OF POSSIBLE ACTIONS\n",
    "\n",
    "N_in=np.shape(X)[0]    ## INPUT SIZE\n",
    "N_h=200                ## NUMBER OF HIDDEN NODES\n",
    "\n",
    "# HYPERPARAMETERS SUGGESTED (FOR A GRID SIZE OF 4)\n",
    "global epsilon_0, beta, gamma, eta\n",
    "epsilon_0 = 0.2     # STARTING VALUE OF EPSILON FOR THE EPSILON-GREEDY POLICY\n",
    "beta = 0.00005      # THE PARAMETER SETS HOW QUICKLY THE VALUE OF EPSILON IS DECAYING (SEE epsilon_f BELOW)\n",
    "gamma = 0.85        # THE DISCOUNT FACTOR\n",
    "eta = 0.0035        # THE LEARNING RATE\n",
    "N_episodes = 100000 # THE NUMBER OF GAMES TO BE PLAYED \n",
    "\n",
    "alpha = 0.0001\n",
    "\n",
    "# RMSprop\n",
    "rms_alpha = 0.9\n",
    "rms_epsilon = 1e-8"
   ]
  },
  {
   "cell_type": "code",
   "execution_count": 19,
   "metadata": {
    "execution": {
     "iopub.execute_input": "2022-03-30T13:17:25.447689Z",
     "iopub.status.busy": "2022-03-30T13:17:25.446968Z",
     "iopub.status.idle": "2022-03-30T13:17:25.458287Z",
     "shell.execute_reply": "2022-03-30T13:17:25.457545Z",
     "shell.execute_reply.started": "2022-03-30T13:17:25.447635Z"
    }
   },
   "outputs": [],
   "source": [
    "def Initialize():\n",
    "    # weights\n",
    "    global W1, W2, bias_W1, bias_W2\n",
    "    W1=np.random.uniform(0,1,(N_h,N_in))\n",
    "    W1=np.divide(W1,np.matlib.repmat(np.sum(W1,1)[:,None],1,N_in))\n",
    "    W2=np.random.uniform(0,1,(N_a,N_h))\n",
    "    W2=np.divide(W2,np.matlib.repmat(np.sum(W2,1)[:,None],1,N_h))\n",
    "    # bias\n",
    "    bias_W1=np.zeros((N_h,))\n",
    "    bias_W2=np.zeros((N_a,))\n",
    "    \n",
    "    # RMSprop\n",
    "    global avg_delta1, avg_delta2, avg_grad1, avg_grad2\n",
    "    avg_delta1=np.zeros((N_h,))\n",
    "    avg_grad1=np.zeros((N_h, N_in))\n",
    "    avg_delta2=np.zeros((N_a,))\n",
    "    avg_grad2=np.zeros((N_a, N_h))"
   ]
  },
  {
   "cell_type": "code",
   "execution_count": 20,
   "metadata": {
    "execution": {
     "iopub.execute_input": "2022-03-30T13:17:25.871509Z",
     "iopub.status.busy": "2022-03-30T13:17:25.871240Z",
     "iopub.status.idle": "2022-03-30T13:17:25.878929Z",
     "shell.execute_reply": "2022-03-30T13:17:25.878267Z",
     "shell.execute_reply.started": "2022-03-30T13:17:25.871479Z"
    }
   },
   "outputs": [],
   "source": [
    "def Q_values(X, W1, W2, bias_W1, bias_W2):\n",
    "    # Neural activation: input layer -> hidden layer\n",
    "    activation1 = np.dot(W1, X) + bias_W1\n",
    "    #sig\n",
    "    out1 = 1 / (1 + np.exp(-activation1))\n",
    "    # Neural activation: hidden layer -> output layer\n",
    "    activation2 = np.dot(W2, out1) + bias_W2\n",
    "    #sig\n",
    "    Q = 1 / (1 + np.exp(-activation2))\n",
    "    return Q, out1 #output,hidden \n",
    "\n",
    "def EpsilonGreedy_Policy(epsilon,Q,a):\n",
    "    if np.random.uniform(0,1) < epsilon:\n",
    "        a_agent= a[np.random.randint(len(a))]\n",
    "    else:\n",
    "        allowed_Q=[]\n",
    "        for act in a:\n",
    "            allowed_Q.append(Q[act])\n",
    "        best_index=np.argmax(allowed_Q)\n",
    "        a_agent=a[best_index]\n",
    "\n",
    "    return a_agent"
   ]
  },
  {
   "cell_type": "code",
   "execution_count": 21,
   "metadata": {
    "execution": {
     "iopub.execute_input": "2022-03-30T13:17:26.621641Z",
     "iopub.status.busy": "2022-03-30T13:17:26.621079Z",
     "iopub.status.idle": "2022-03-30T13:17:26.626720Z",
     "shell.execute_reply": "2022-03-30T13:17:26.625983Z",
     "shell.execute_reply.started": "2022-03-30T13:17:26.621603Z"
    }
   },
   "outputs": [],
   "source": [
    "def AdjustReward(r, done, n_moves):\n",
    "    if done:\n",
    "        return 1 if r else -1\n",
    "    else:\n",
    "        return 1-(0.1*n_moves)"
   ]
  },
  {
   "cell_type": "code",
   "execution_count": 22,
   "metadata": {
    "execution": {
     "iopub.execute_input": "2022-03-30T13:17:29.374857Z",
     "iopub.status.busy": "2022-03-30T13:17:29.374347Z",
     "iopub.status.idle": "2022-03-30T13:17:29.379042Z",
     "shell.execute_reply": "2022-03-30T13:17:29.378266Z",
     "shell.execute_reply.started": "2022-03-30T13:17:29.374809Z"
    }
   },
   "outputs": [],
   "source": [
    "# import grogress bar\n",
    "from time import sleep\n",
    "from tqdm import tqdm"
   ]
  },
  {
   "cell_type": "code",
   "execution_count": 23,
   "metadata": {
    "execution": {
     "iopub.execute_input": "2022-03-30T13:17:29.791755Z",
     "iopub.status.busy": "2022-03-30T13:17:29.791343Z",
     "iopub.status.idle": "2022-03-30T13:17:29.813828Z",
     "shell.execute_reply": "2022-03-30T13:17:29.813104Z",
     "shell.execute_reply.started": "2022-03-30T13:17:29.791719Z"
    }
   },
   "outputs": [],
   "source": [
    "def Train(change_rewards, rms_prop):\n",
    "    global W1, W2, bias_W1, bias_W2\n",
    "    global avg_delta1, avg_delta2, avg_grad1, avg_grad2\n",
    "    \n",
    "    # Saving variables\n",
    "    R_save = np.zeros([N_episodes, 1])\n",
    "    N_moves_save = np.zeros([N_episodes, 1])\n",
    "    \n",
    "    for n in tqdm(range(N_episodes)):\n",
    "        epsilon_f = epsilon_0 / (1 + beta * n)   ## DECAYING EPSILON\n",
    "        Done=0                                   ## SET DONE TO ZERO (BEGINNING OF THE EPISODE)\n",
    "        i = 1                                    ## COUNTER FOR NUMBER OF ACTIONS\n",
    "\n",
    "        S,X,allowed_a=env.Initialise_game()      ## INITIALISE GAME\n",
    "\n",
    "        while Done==0:                           ## START THE EPISODE\n",
    "\n",
    "            a,_=np.where(allowed_a==1)\n",
    "\n",
    "            # Find the Qvalues\n",
    "            Q, out1 = Q_values(X, W1, W2, bias_W1, bias_W2)\n",
    "            # Make an action\n",
    "            a_agent = EpsilonGreedy_Policy(epsilon_f, Q, a)\n",
    "\n",
    "            # Add to number of moves for the game\n",
    "            N_moves_save[n] = N_moves_save[n]+1\n",
    "            \n",
    "            # Exponential moving average of the number of moves per game\n",
    "            if n > 0:\n",
    "                N_moves_save[n] = ((1-alpha) * N_moves_save[n-1]) + (alpha*N_moves_save[n])\n",
    "\n",
    "            #return self.Board, X, allowed_a, R, Done    \n",
    "            S_next,X_next,allowed_a_next,R,Done=env.OneStep(a_agent)\n",
    "\n",
    "            if change_rewards:\n",
    "                R = AdjustReward(R, Done, N_moves_save[n][0])\n",
    "\n",
    "            ## THE EPISODE HAS ENDED, UPDATE...BE CAREFUL, THIS IS THE LAST STEP OF THE EPISODE\n",
    "            if Done==1:\n",
    "                \n",
    "                # Backpropagation: output layer -> hidden layer\n",
    "                delta2 = (R - Q[a_agent]) * np.heaviside(Q[a_agent], 0)\n",
    "                grad2 = np.outer(delta2, out1)\n",
    "                if rms_prop:\n",
    "                    avg_grad2 = rms_alpha * avg_grad2 + (1-rms_alpha) * np.power(grad2, 2)\n",
    "                    avg_delta2 = rms_alpha * avg_delta2 + (1-rms_alpha) * np.power(delta2, 2)\n",
    "                    W2 += (eta/(np.sqrt(avg_grad2)+rms_epsilon)) * grad2\n",
    "                    bias_W2 += (eta/(np.sqrt(avg_delta2)+rms_epsilon)) * delta2\n",
    "                else:\n",
    "                    W2 += eta * grad2\n",
    "                    bias_W2 += eta * delta2\n",
    "\n",
    "                # Backpropagation: hidden -> input layer\n",
    "                delta1 = np.dot(W2[a_agent], delta2) * np.heaviside(out1, 0)\n",
    "                grad1 = np.outer(delta1, X)\n",
    "                if rms_prop:\n",
    "                    avg_grad1 = rms_alpha * avg_grad1 + (1-rms_alpha) * np.power(grad1, 2)\n",
    "                    avg_delta1 = rms_alpha * avg_delta1 + (1-rms_alpha) * np.power(delta1, 2)\n",
    "                    W1 += (eta/(np.sqrt(avg_grad1)+rms_epsilon)) * grad1\n",
    "                    bias_W1 += (eta/(np.sqrt(avg_delta1)+rms_epsilon)) * delta1\n",
    "                else:\n",
    "                    W1 += eta * grad1\n",
    "                    bias_W1 += eta * delta1\n",
    "\n",
    "                #set the reward for the game\n",
    "                R_save[n] = R\n",
    "                #exponential moving average of the reward R\n",
    "                if n > 0:\n",
    "                    R_save[n] = ((1-alpha) * R_save[n-1]) + (alpha*R_save[n])\n",
    "                else:\n",
    "                    R_save[n] = 0\n",
    "                break\n",
    "\n",
    "            # IF THE EPISODE IS NOT OVER...\n",
    "            else:\n",
    "                Q_next, _ = Q_values(X_next, W1, W2, bias_W1, bias_W2)\n",
    "                a,_=np.where(allowed_a_next==1)\n",
    "                Q_max = max(Q_next[a])\n",
    "\n",
    "                # Backpropagation: output layer -> hidden layer\n",
    "                delta2 = (R + gamma*Q_max - Q[a_agent]) * np.heaviside(Q[a_agent], 0)\n",
    "                grad2 = np.outer(delta2, out1)\n",
    "                if rms_prop:\n",
    "                    avg_grad2 = rms_alpha * avg_grad2 + (1-rms_alpha) * np.power(grad2, 2)\n",
    "                    avg_delta2 = rms_alpha * avg_delta2 + (1-rms_alpha) * np.power(delta2, 2)\n",
    "                    W2 += (eta/(np.sqrt(avg_grad2)+rms_epsilon)) * grad2\n",
    "                    bias_W2 += (eta/(np.sqrt(avg_delta2)+rms_epsilon)) * delta2\n",
    "                else:\n",
    "                    W2 += eta * grad2\n",
    "                    bias_W2 += eta * delta2\n",
    "\n",
    "                # Backpropagation: hidden -> input layer\n",
    "                delta1 = np.dot(W2[a_agent], delta2) * np.heaviside(out1, 0)\n",
    "                grad1 = np.outer(delta1, X)\n",
    "                if rms_prop:\n",
    "                    avg_grad1 = rms_alpha * avg_grad1 + (1-rms_alpha) * np.power(grad1, 2)\n",
    "                    avg_delta1 = rms_alpha * avg_delta1 + (1-rms_alpha) * np.power(delta1, 2)\n",
    "                    W1 += (eta/(np.sqrt(avg_grad1)+rms_epsilon)) * grad1\n",
    "                    bias_W1 += (eta/(np.sqrt(avg_delta1)+rms_epsilon)) * delta1\n",
    "                else:\n",
    "                    W1 += eta * grad1\n",
    "                    bias_W1 += eta * delta1\n",
    "            \n",
    "            # NEXT STATE AND CO. BECOME ACTUAL STATE...     \n",
    "            S=np.copy(S_next)\n",
    "            X=np.copy(X_next)\n",
    "            allowed_a=np.copy(allowed_a_next)\n",
    "\n",
    "            i += 1  # UPDATE COUNTER FOR NUMBER OF ACTIONS\n",
    "            \n",
    "    return R_save, N_moves_save"
   ]
  },
  {
   "cell_type": "code",
   "execution_count": 24,
   "metadata": {
    "execution": {
     "iopub.execute_input": "2022-03-30T13:17:32.775266Z",
     "iopub.status.busy": "2022-03-30T13:17:32.774685Z",
     "iopub.status.idle": "2022-03-31T00:02:00.792196Z",
     "shell.execute_reply": "2022-03-31T00:02:00.791366Z",
     "shell.execute_reply.started": "2022-03-30T13:17:32.775230Z"
    }
   },
   "outputs": [
    {
     "name": "stderr",
     "output_type": "stream",
     "text": [
      "100%|██████████| 100000/100000 [47:18<00:00, 35.22it/s] \n",
      "100%|██████████| 100000/100000 [4:02:10<00:00,  6.88it/s] \n",
      "100%|██████████| 100000/100000 [56:34<00:00, 29.46it/s] \n",
      "100%|██████████| 100000/100000 [4:58:24<00:00,  5.59it/s]  \n"
     ]
    }
   ],
   "source": [
    "Initialize()\n",
    "r1, n1 = Train(False, False)\n",
    "\n",
    "Initialize()\n",
    "r2, n2 = Train(True, False)\n",
    "\n",
    "Initialize()\n",
    "r3, n3 = Train(False, True)\n",
    "\n",
    "Initialize()\n",
    "r4, n4 = Train(True, True)"
   ]
  },
  {
   "cell_type": "code",
   "execution_count": 25,
   "metadata": {
    "execution": {
     "iopub.execute_input": "2022-03-31T00:02:21.251818Z",
     "iopub.status.busy": "2022-03-31T00:02:21.251117Z",
     "iopub.status.idle": "2022-03-31T00:02:21.531902Z",
     "shell.execute_reply": "2022-03-31T00:02:21.531249Z",
     "shell.execute_reply.started": "2022-03-31T00:02:21.251781Z"
    }
   },
   "outputs": [
    {
     "data": {
      "image/png": "[encoded data removed]",
      "text/plain": [
       "<Figure size 432x288 with 1 Axes>"
      ]
     },
     "metadata": {
      "needs_background": "light"
     },
     "output_type": "display_data"
    }
   ],
   "source": [
    "# Exponential moving average of reward per game over time\n",
    "plt.plot(r1)\n",
    "plt.plot(r2)\n",
    "plt.plot(r3)\n",
    "plt.plot(r4)\n",
    "\n",
    "plt.legend(['original', 'new rewards', 'RMSprop', 'new rewards & RMSprop'], loc='upper right')\n",
    "plt.xlabel('Episode Number')\n",
    "plt.ylabel('Reward')\n",
    "plt.show()"
   ]
  },
  {
   "cell_type": "code",
   "execution_count": 26,
   "metadata": {
    "execution": {
     "iopub.execute_input": "2022-03-31T00:02:24.972856Z",
     "iopub.status.busy": "2022-03-31T00:02:24.972297Z",
     "iopub.status.idle": "2022-03-31T00:02:25.254963Z",
     "shell.execute_reply": "2022-03-31T00:02:25.254268Z",
     "shell.execute_reply.started": "2022-03-31T00:02:24.972816Z"
    }
   },
   "outputs": [
    {
     "data": {
      "image/png": "[encoded data removed]",
      "text/plain": [
       "<Figure size 432x288 with 1 Axes>"
      ]
     },
     "metadata": {
      "needs_background": "light"
     },
     "output_type": "display_data"
    }
   ],
   "source": [
    "# Exponential moving average of number of moves per game over time\n",
    "plt.plot(n1)\n",
    "plt.plot(n2)\n",
    "plt.plot(n3)\n",
    "plt.plot(n4)\n",
    "\n",
    "plt.legend(['original', 'new rewards', 'RMSprop', 'new rewards & RMSprop'], loc='upper right')\n",
    "plt.xlabel('Episode Number')\n",
    "plt.ylabel('Number of Moves')\n",
    "plt.show()"
   ]
  },
  {
   "cell_type": "code",
   "execution_count": null,
   "metadata": {},
   "outputs": [],
   "source": []
  }
 ],
 "metadata": {
  "kernelspec": {
   "display_name": "Python 3",
   "language": "python",
   "name": "python3"
  },
  "language_info": {
   "codemirror_mode": {
    "name": "ipython",
    "version": 3
   },
   "file_extension": ".py",
   "mimetype": "text/x-python",
   "name": "python",
   "nbconvert_exporter": "python",
   "pygments_lexer": "ipython3",
   "version": "3.7.1"
  }
 },
 "nbformat": 4,
 "nbformat_minor": 4
}
